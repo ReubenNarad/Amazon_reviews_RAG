{
 "cells": [
  {
   "cell_type": "markdown",
   "id": "a539b59f-a832-49db-993a-389049c7fcda",
   "metadata": {},
   "source": [
    "# Execute GPT requests with RAG\n",
    "\n",
    "- TODO: Format different function calls in ./tools/templates\n",
    "- TODO: Preprocess data from non-movie sets\n",
    "- TODO: Make gpt call separate module, to swap out with local LLM\n",
    "- TODO: Add better eval metrics"
   ]
  },
  {
   "cell_type": "code",
   "execution_count": 1,
   "id": "5696aaae-ad0a-442d-9013-85da601fc853",
   "metadata": {},
   "outputs": [],
   "source": [
    "! pip install openai langchain -q"
   ]
  },
  {
   "cell_type": "code",
   "execution_count": 37,
   "id": "fe56f11e-361a-44b1-9dcb-c0e4d495eaa3",
   "metadata": {},
   "outputs": [],
   "source": [
    "import sys\n",
    "sys.path.append('tools')\n",
    "\n",
    "from rows import extract_rows\n",
    "from preferences import format_preferences\n",
    "\n",
    "from sklearn.metrics import f1_score, recall_score, roc_auc_score\n",
    "\n",
    "import os\n",
    "import json\n",
    "import csv\n",
    "\n",
    "opai_api_key = \"YOUR-OPENAI-KEY\""
   ]
  },
  {
   "cell_type": "code",
   "execution_count": 38,
   "id": "710345af-0dff-42c6-a873-4dca71062e18",
   "metadata": {},
   "outputs": [],
   "source": [
    "# Retrieve samples at random from formatted dataset\n",
    "sample_size = 500\n",
    "rows = extract_rows(sample_size)"
   ]
  },
  {
   "cell_type": "code",
   "execution_count": 39,
   "id": "70716735-cbc9-4e1d-8cda-546de540e3e6",
   "metadata": {},
   "outputs": [
    {
     "name": "stdout",
     "output_type": "stream",
     "text": [
      "Title: Black Rain VHS\n",
      "Review: A great movie starring Michael Douglas and Andy Garcia as two New York Detectives that witnessed a Japanese criminal murder a Japanese man in New York, and was selected to return the prisoner to Japan.  Upon arrival a fake Japanese police officer took the prisoner which both men swore to track the killer down in Japan.  Garcia was killed by some of the thugs during their quest for the location of the killer.  Ken Takakura was the Japanese liaison and worked with the detectives to find the killer.  Kate Capshaw was a gorgeous Amerikan lady that worked in a expensive Japanese club that helped the boys in their search for missing plates for printing Amerikan counterfit dollars and brought a climax of a large shootout and capture of the killer.\n",
      "Excellent movie.\n",
      "Title: War\n",
      "Review: Hero is a FBI po-leese man whose  asian partner gets murdered along with his family and burned with his home, after gettin' too close to the big assassins.  Got between two Asian gangs that have conflicting interests and was involved in the WAR.  I would recommend this film also.\n",
      "Title: Band Of Brothers (DVD)\n",
      "Review: Band of Brothers was he best of the Army actions of WWII.  Using the 101st Airborne Division, the program followed the actions of Easy Company, 2nd Battalion of the 506th Airborn Regiment.  Lt Winters, taking command of Easy Company after the Commanding Officer died in a aircraft hit by AAA during the air assault on D-Day, 6 June 1944.  Lt Winters continued to take a platoon of Easy Company soldiers and knocked out an 88mm Artillery Battery that was firing on the D-Day beaches, destroying every artillery piece and wounding or killing most of the German defenders.  As the 101st Abn Div continued it's march through France, Belgium, they participated in the ill fated Operation Market Garden, a British Field Marshal McGomery idea, but was unable to reach it's objective in Holland in time to save the British 2d Airborn Division from being captured.  The 101st Abn Div ended up in Austria training for operations in the Pacific Area.  Only one program was equal to this American Army Europe, and that happened to be \"The Pacific\" where Marines battled from island to island in the Pacific Area against the Armed Forces of Japan. The 101st Abn Div never made it to the Pacific Area as the war ended.\n",
      "Title: Deadwood: Season 2\n",
      "Review: I finally gave a thought about the series \"DEADWOOD\" after watching Season 1, Season 2, and Season 3.  It was all about a collection of people back in the middle 1870s that owned business, as foul as they were, in Deadwood, South Dakota, I think.  When you say a program was lusty, with colorful language, that wouldn't exactly fit what I have been watching.  Nudity, including full frontal, cussin' like you haven't heard since the last time the ships were in, and the Sailors started drinkin'.  Having the \"women of the night\" in every episode, along with the killin, doesn't exactly make it an enjoyable series, but I must admit, even though I advised myself not to watch it, I watched each and every episode, from Season 1 through Season 3, and it did get better as the series continued.  I understand there are other Seasons available through Home Box Office, and maybe by the end, it would have some redeeming values to write about.  Probably not much worse than a real-life Cowboy picture in the 60s.\n",
      "Title: Revolver (2005) (Region 2)\n",
      "Review: Revolver is OK, but not great.  Hero plays a fella that just got out of prison, and crosses the mob boss that sent him to prison.  Still a lot of action film and wasn't hard to sit through.  I would recommend it even if it's OK with Jason Statham playing there.\n",
      "Title: Chaos\n",
      "Review: Thoroughly enjoyed Chaos, the story of a po-leese officer that had been removed from duty by a claim of illegal activity, but was recalled to duty to investigate a bank robbery, a very high interest action where the Captain wanted him to do the investigation.  Some unsuspected things went on in the film, and was over very good.  Jason Statham played a good role.\n",
      "Title: The Tom Selleck Western Collection\n",
      "Review: As a fan of Tom Selleck, I find his western movies among the very best of the best.  He's a great actor and his westerns are authentic in dress and activity of the period.  It's not history, but elements of the time is very evident in his portrayal of his character.\n",
      "I thoroughly enjoy the westerns that Selleck makes.\n",
      "Title: Jericho - The Complete Series\n",
      "Review: Jerico was probably one of the best series in TV history.  The plot and acting was super, and the end was better than expected.  I would rate that series one of the best.\n",
      "Title: Chaos\n",
      "Review: Thoroughly enjoyed Chaos, the story of a po-leese officer that had been removed from duty by a claim of illegal activity, but was recalled to duty to investigate a bank robbery, a very high interest action where the Captain wanted him to do the investigation.  Some unsuspected things went on in the film, and was over very good.  Jason Statham played a good role.\n",
      "Title: The Tom Selleck Western Collection\n",
      "Review: As a fan of Tom Selleck, I find his western movies among the very best of the best.  He's a great actor and his westerns are authentic in dress and activity of the period.  It's not history, but elements of the time is very evident in his portrayal of his character.\n",
      "I thoroughly enjoy the westerns that Selleck makes.\n",
      "Title: Jericho - The Complete Series\n",
      "Review: Jerico was probably one of the best series in TV history.  The plot and acting was super, and the end was better than expected.  I would rate that series one of the best.\n",
      "Title: Star Trek\n",
      "Review: I started watching Star Trek with the old crew in 1967 after returning from Germany.  Of course it was the real first of the great series about moving through space, but this Star Trek has it all.... action from the beginning to end and as an old Star Trek fan I recongnized the characters from the original series.  It was new creativity and new directors that did a great job.  Took me four years and my children recommending the move before I got serious and saw the movie and loved it.  Of course I remembered \"The next Generation\" which was lousy, Star Trek Voyager was pretty good until the black character seemed to take over the production, and finally the beginning as Star Trek Enterprise and it was the best of the lot until this film came about.\n",
      "Finally Star Trek is back to where it should be, with groups excitedly awaiting the opening of a new Star Trek.\n",
      "Title: Crank 2 [Theatical Release] [Theatrical Release]\n",
      "Review: Hero got his heart taken by Asian gangsters for a Triad boss' transplant.  It's really not my kind of movie, kinda silly, but some parts were good enough to get the OK rating.  If you need a little smiling and some pretty rough fighting, you will probably like this one too.  I would recommend it, but understanding it's kinda silly.\n",
      "Title: Blue Bloods: Season 1\n",
      "Review: First season of one of the best series on TV.  I've been a great fan of Tom Selleck for year, also Danny (Donnie Wahlberg) is an excellent pick to do the Senior Detective, Brigit Monohan is great as Erin, while Wil Estes (Jamie) is one of the best of the group that make up the Blue Bloods.  All the other actors that make up the crew fit in perfectly and the episodes are different every week.  I thoroughly enjoy Blue Bloods even if it is in New York.\n",
      "Title: 13\n",
      "Review: The young man needed money for his father's hospital stay, and after his uncle died, took his identification and ticket to meet at the gambling location to compete with other men vying for the millions of dollars when being the winner.  The men would circle with each having a weapon, and each would fire a shot into the head of the man in front of him.  The young man won after all others were killed during the rounds of actions.  Jason Statham was one of the men that bet on another man and needed the money. 'nuff said.\n",
      "It was an unusual story.  I would recommend it with reservations.  It's a disturbing movie.\n",
      "Title: Killer Elite\n",
      "Review: Story of an ex-special services soldier that was trying to save his partner.  An Arab sheik holding him prisoner because of agreeing to killing certain British Air Service soldiers that killed his sons in a War in a middle eastern country.  He agreed to the killing of the soldiers in order to have his buddy released with lots of money.  A fella from a secret military society interviened to find out who was killing the soldiers.  Good film, I would highly recommend this action film.\n",
      "Title: Jesse Stone: The Complete Set\n",
      "Review: The Jesse Stone series based on the books of Robert Parker are outstanding.  The story, the players, and the location are all fitted together and make a great set of stories.  Each book is represented by one of the collection, and you never forget the supporting people that contribute to a complete and professional presentation that is unforgettable.\n",
      "Tom Selleck plays Jesse Stone, and in the words of the author of the books exclaimed, \"There he is.... Jesse Stone came to life\".  And as a total fan of Tom Selleck, I believe he plays the character in his natural and complete way...and he does make Jesse Stone, of the Paradise Police Department come to life.\n",
      "\n",
      "I heartedly recommend this series to everyone that enjoy good acting and good stories that come to life.\n",
      "Title: Band of Brothers(Elite SC/BD+DCExp12-21)\n",
      "Review: Band of Brothers was he best of the Army actions of WWII.  Using the 101st Airborne Division, the program followed the actions of Easy Company, 2nd Battalion of the 506th Airborn Regiment.  Lt Winters, taking command of Easy Company after the Commanding Officer died in a aircraft hit by AAA during the air assault on D-Day, 6 June 1944.  Lt Winters continued to take a platoon of Easy Company soldiers and knocked out an 88mm Artillery Battery that was firing on the D-Day beaches, destroying every artillery piece and wounding or killing most of the German defenders.  As the 101st Abn Div continued it's march through France, Belgium, they participated in the ill fated Operation Market Garden, a British Field Marshal McGomery idea, but was unable to reach it's objective in Holland in time to save the British 2d Airborn Division from being captured.  The 101st Abn Div ended up in Austria training for operations in the Pacific Area.  Only one program was equal to this American Army Europe, and that happened to be \"The Pacific\" where Marines battled from island to island in the Pacific Area against the Armed Forces of Japan. The 101st Abn Div never made it to the Pacific Area as the war ended.\n",
      "Title: Jesse Stone: Lost in Paradise\n",
      "Review: This was as good a story as all the others which I enjoyed very much.  Shame this series wasn't selected for a TV production, but fortunately the series Blue Bloods made the grade.  Lost in Paradise was a good continuation of the Jesse Stone series, all of which I enjoyed immensely.  I do like Tom Selleck and look forward to many more of the Jesse Stone episodes.\n",
      "Title: Star Trek XI\n",
      "Review: I started watching Star Trek with the old crew in 1967 after returning from Germany.  Of course it was the real first of the great series about moving through space, but this Star Trek has it all.... action from the beginning to end and as an old Star Trek fan I recongnized the characters from the original series.  It was new creativity and new directors that did a great job.  Took me four years and my children recommending the move before I got serious and saw the movie and loved it.  Of course I remembered \"The next Generation\" which was lousy, Star Trek Voyager was pretty good until the black character seemed to take over the production, and finally the beginning as Star Trek Enterprise and it was the best of the lot until this film came about.\n",
      "Finally Star Trek is back to where it should be, with groups excitedly awaiting the opening of a new Star Trek.\n",
      "Title: Born to Battle\n",
      "Review: I really didn't see this item.  I started but only watched a minute before I changed it.\n"
     ]
    }
   ],
   "source": [
    "# Print all reviews by this user\n",
    "first = list(rows[0].values())[0]\n",
    "\n",
    "for review in first:\n",
    "    print(f\"Title: {review['title']}\")\n",
    "    print(f\"Review: {review['reviewText']}\")"
   ]
  },
  {
   "cell_type": "code",
   "execution_count": 40,
   "id": "af0c77ac-b759-4e08-95ec-9bd0d1ff50cf",
   "metadata": {},
   "outputs": [],
   "source": [
    "prefs = format_preferences(rows[0])\n",
    "print(json.dumps(prefs, indent=4))"
   ]
  },
  {
   "cell_type": "markdown",
   "id": "fe5a1795-3803-4dfd-86ab-6f9f72dc0659",
   "metadata": {},
   "source": [
    "## Define model and function calling\n",
    "**Only run one of the below cells**"
   ]
  },
  {
   "cell_type": "code",
   "execution_count": 42,
   "id": "317ff6da-b09f-4099-af95-4c7971995d1f",
   "metadata": {},
   "outputs": [],
   "source": [
    "from langchain.prompts.chat import ChatPromptTemplate\n",
    "from langchain_community.chat_models import ChatOpenAI"
   ]
  },
  {
   "cell_type": "code",
   "execution_count": 43,
   "id": "4034d84d-d91b-4c54-bcd6-fdd780e6f466",
   "metadata": {
    "tags": []
   },
   "outputs": [],
   "source": [
    "# Defines Prediction + Explanation chain\n",
    "\n",
    "prompt = ChatPromptTemplate.from_template(\"You are a reccomender system. User Liked {likes}, User Disliked {dislikes}. Will the user like {target}?\")\n",
    "model = ChatOpenAI(model_name=\"gpt-3.5-turbo\", openai_api_key=opai_api_key)\n",
    "\n",
    "functions = [\n",
    "    {\n",
    "        \"name\": \"reccomendation\",\n",
    "        \"description\": \"A reccomender system\",\n",
    "        \"parameters\": {\n",
    "            \"type\": \"object\",\n",
    "            \"properties\": {\n",
    "                \"reccomend\": {\n",
    "                    \"type\": \"boolean\",\n",
    "                    \"description\": \"Whether the user will like the target\"\n",
    "                },\n",
    "                \"explanation\": {\n",
    "                    \"type\": \"string\",\n",
    "                    \"description\": \"Step-by-step rationale for your reccomendation, including user demographics. 3 sentences\",\n",
    "                },\n",
    "            },\n",
    "            \"required\": [\"reccomend\", \"explanation\"],\n",
    "        },\n",
    "    }\n",
    "]\n",
    "chain = prompt | model.bind(function_call={\"name\": \"reccomendation\"}, functions=functions)"
   ]
  },
  {
   "cell_type": "markdown",
   "id": "a0e67376-b4ad-41d3-90ee-c3d25af090eb",
   "metadata": {},
   "source": [
    "### Run inference and evaluate"
   ]
  },
  {
   "cell_type": "code",
   "execution_count": 48,
   "id": "626b9812-5d15-4c97-a670-1da5dd6afa9a",
   "metadata": {},
   "outputs": [
    {
     "name": "stdout",
     "output_type": "stream",
     "text": [
      "{\n",
      "    \"likes\": [\n",
      "        \"Black Rain VHS\",\n",
      "        \"War\",\n",
      "        \"Deadwood: Season 2\",\n",
      "        \"Chaos\",\n",
      "        \"The Tom Selleck Western Collection\",\n",
      "        \"Jericho - The Complete Series\",\n",
      "        \"The Tom Selleck Western Collection\",\n",
      "        \"Jericho - The Complete Series\",\n",
      "        \"Star Trek\",\n",
      "        \"Blue Bloods: Season 1\",\n",
      "        \"13\",\n",
      "        \"Band of Brothers(Elite SC/BD+DCExp12-21)\",\n",
      "        \"Jesse Stone: Lost in Paradise\"\n",
      "    ],\n",
      "    \"dislikes\": [\n",
      "        \"Revolver (2005) (Region 2)\",\n",
      "        \"Crank 2 [Theatical Release] [Theatrical Release]\",\n",
      "        \"Born to Battle\"\n",
      "    ],\n",
      "    \"target\": \"Star Trek XI\",\n",
      "    \"truth\": true\n",
      "}\n",
      "pred: True, Based on the user's liking for similar action and drama movies, as well as their interest in TV series like 'Star Trek' and 'Jericho', it is likely that they will enjoy 'Star Trek XI'.\n"
     ]
    }
   ],
   "source": [
    "pred = []\n",
    "truth = []\n",
    "title = []\n",
    "explanations = []\n",
    "\n",
    "evaluated = 0\n",
    "\n",
    "# Run inference on the chain\n",
    "for i, user in enumerate(rows):    \n",
    "    try:\n",
    "        prefs = format_preferences(user)\n",
    "    except Exception as e:\n",
    "        print(f\"Error: {e} for user {user}\")\n",
    "    response = chain.invoke(prefs)\n",
    "    \n",
    "    prediction = json.loads(response.additional_kwargs['function_call']['arguments'])\n",
    "    \n",
    "    # Log response\n",
    "    pred.append(prediction['reccomend'])\n",
    "    truth.append(prefs['truth'])\n",
    "    title.append(prefs['target'])\n",
    "    explanations.append(response.additional_kwargs['function_call']['arguments'])\n",
    "    \n",
    "    print(json.dumps(prefs, indent=4))\n",
    "    print(f\"pred: {prediction['reccomend']}, {prediction['explanation']}\")\n",
    "    evaluated += 1\n",
    "    \n",
    "    break\n"
   ]
  },
  {
   "cell_type": "markdown",
   "id": "c67bcecf-0069-4070-aa31-7f82527421da",
   "metadata": {},
   "source": [
    "## WIP"
   ]
  },
  {
   "cell_type": "code",
   "execution_count": null,
   "id": "7d05dbc8-70ae-4dab-97ad-2f287ce8b994",
   "metadata": {},
   "outputs": [],
   "source": [
    "# f1 = f1_score(pred, truth)\n",
    "# recall = recall_score(pred, truth)\n",
    "# auc = roc_auc_score(pred, truth)"
   ]
  },
  {
   "cell_type": "code",
   "execution_count": null,
   "id": "0666818d-f719-4097-a1c5-08a2fa4dbfc3",
   "metadata": {},
   "outputs": [],
   "source": [
    "# print(f1, recall, auc)"
   ]
  },
  {
   "cell_type": "code",
   "execution_count": null,
   "id": "d0b04c85-1553-4845-94f4-30dfa8335fae",
   "metadata": {},
   "outputs": [],
   "source": [
    "# # Combine collected data into a list of tuples\n",
    "# data = list(zip(pred, truth, title, explanations))\n",
    "\n",
    "# # Define the file name for the CSV\n",
    "# csv_filename = 'data_output.csv'\n",
    "\n",
    "# # Save data to a CSV file\n",
    "# with open(csv_filename, 'w', newline='') as csvfile:\n",
    "#     csv_writer = csv.writer(csvfile)\n",
    "    \n",
    "#     # Write header\n",
    "#     csv_writer.writerow(['Prediction', 'Truth', 'Title', 'Explanation'])\n",
    "    \n",
    "#     # Write rows\n",
    "#     csv_writer.writerows(data)\n",
    "\n",
    "# print(f\"Data saved to {csv_filename}\")"
   ]
  }
 ],
 "metadata": {
  "kernelspec": {
   "display_name": "Python 3 (ipykernel)",
   "language": "python",
   "name": "python3"
  },
  "language_info": {
   "codemirror_mode": {
    "name": "ipython",
    "version": 3
   },
   "file_extension": ".py",
   "mimetype": "text/x-python",
   "name": "python",
   "nbconvert_exporter": "python",
   "pygments_lexer": "ipython3",
   "version": "3.9.7"
  }
 },
 "nbformat": 4,
 "nbformat_minor": 5
}
